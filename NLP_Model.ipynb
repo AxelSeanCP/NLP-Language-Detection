{
  "nbformat": 4,
  "nbformat_minor": 0,
  "metadata": {
    "colab": {
      "provenance": []
    },
    "kernelspec": {
      "name": "python3",
      "display_name": "Python 3"
    },
    "language_info": {
      "name": "python"
    }
  },
  "cells": [
    {
      "cell_type": "markdown",
      "source": [
        "# Import libraries"
      ],
      "metadata": {
        "id": "8-HJCF6VcWuz"
      }
    },
    {
      "cell_type": "code",
      "execution_count": 1,
      "metadata": {
        "id": "G5T8r9P1oKim",
        "colab": {
          "base_uri": "https://localhost:8080/"
        },
        "outputId": "ecda6370-5340-4627-c5f4-2600ba6c3010"
      },
      "outputs": [
        {
          "output_type": "stream",
          "name": "stderr",
          "text": [
            "[nltk_data] Downloading package punkt to /root/nltk_data...\n",
            "[nltk_data]   Unzipping tokenizers/punkt.zip.\n"
          ]
        },
        {
          "output_type": "execute_result",
          "data": {
            "text/plain": [
              "True"
            ]
          },
          "metadata": {},
          "execution_count": 1
        }
      ],
      "source": [
        "import tensorflow as tf\n",
        "import pandas as pd\n",
        "import matplotlib.pyplot as plt\n",
        "import nltk\n",
        "from nltk.tokenize import word_tokenize\n",
        "from sklearn.model_selection import train_test_split\n",
        "from tensorflow.keras.preprocessing.text import Tokenizer\n",
        "from tensorflow.keras.preprocessing.sequence import pad_sequences\n",
        "from tensorflow.keras.regularizers import l2\n",
        "\n",
        "nltk.download('punkt')"
      ]
    },
    {
      "cell_type": "markdown",
      "source": [
        "# Load dataset\n",
        "- dataset link: https://www.kaggle.com/datasets/basilb2s/language-detection/data"
      ],
      "metadata": {
        "id": "JDkjss3HcZZr"
      }
    },
    {
      "cell_type": "code",
      "source": [
        "df = pd.read_csv('Language Detection.csv')\n",
        "df.head(10)"
      ],
      "metadata": {
        "colab": {
          "base_uri": "https://localhost:8080/",
          "height": 363
        },
        "id": "e0e4NVDZcbiA",
        "outputId": "f3dfa2ea-ae92-42c9-f3df-5a2021dd35e7"
      },
      "execution_count": 3,
      "outputs": [
        {
          "output_type": "execute_result",
          "data": {
            "text/plain": [
              "                                                Text Language\n",
              "0   Nature, in the broadest sense, is the natural...  English\n",
              "1  \"Nature\" can refer to the phenomena of the phy...  English\n",
              "2  The study of nature is a large, if not the onl...  English\n",
              "3  Although humans are part of nature, human acti...  English\n",
              "4  [1] The word nature is borrowed from the Old F...  English\n",
              "5  [2] In ancient philosophy, natura is mostly us...  English\n",
              "6  [3][4] \\nThe concept of nature as a whole, the...  English\n",
              "7  During the advent of modern scientific method ...  English\n",
              "8  [5][6] With the Industrial revolution, nature ...  English\n",
              "9  However, a vitalist vision of nature, closer t...  English"
            ],
            "text/html": [
              "\n",
              "  <div id=\"df-6929969c-5dde-4b34-b588-c2bef799a22a\" class=\"colab-df-container\">\n",
              "    <div>\n",
              "<style scoped>\n",
              "    .dataframe tbody tr th:only-of-type {\n",
              "        vertical-align: middle;\n",
              "    }\n",
              "\n",
              "    .dataframe tbody tr th {\n",
              "        vertical-align: top;\n",
              "    }\n",
              "\n",
              "    .dataframe thead th {\n",
              "        text-align: right;\n",
              "    }\n",
              "</style>\n",
              "<table border=\"1\" class=\"dataframe\">\n",
              "  <thead>\n",
              "    <tr style=\"text-align: right;\">\n",
              "      <th></th>\n",
              "      <th>Text</th>\n",
              "      <th>Language</th>\n",
              "    </tr>\n",
              "  </thead>\n",
              "  <tbody>\n",
              "    <tr>\n",
              "      <th>0</th>\n",
              "      <td>Nature, in the broadest sense, is the natural...</td>\n",
              "      <td>English</td>\n",
              "    </tr>\n",
              "    <tr>\n",
              "      <th>1</th>\n",
              "      <td>\"Nature\" can refer to the phenomena of the phy...</td>\n",
              "      <td>English</td>\n",
              "    </tr>\n",
              "    <tr>\n",
              "      <th>2</th>\n",
              "      <td>The study of nature is a large, if not the onl...</td>\n",
              "      <td>English</td>\n",
              "    </tr>\n",
              "    <tr>\n",
              "      <th>3</th>\n",
              "      <td>Although humans are part of nature, human acti...</td>\n",
              "      <td>English</td>\n",
              "    </tr>\n",
              "    <tr>\n",
              "      <th>4</th>\n",
              "      <td>[1] The word nature is borrowed from the Old F...</td>\n",
              "      <td>English</td>\n",
              "    </tr>\n",
              "    <tr>\n",
              "      <th>5</th>\n",
              "      <td>[2] In ancient philosophy, natura is mostly us...</td>\n",
              "      <td>English</td>\n",
              "    </tr>\n",
              "    <tr>\n",
              "      <th>6</th>\n",
              "      <td>[3][4] \\nThe concept of nature as a whole, the...</td>\n",
              "      <td>English</td>\n",
              "    </tr>\n",
              "    <tr>\n",
              "      <th>7</th>\n",
              "      <td>During the advent of modern scientific method ...</td>\n",
              "      <td>English</td>\n",
              "    </tr>\n",
              "    <tr>\n",
              "      <th>8</th>\n",
              "      <td>[5][6] With the Industrial revolution, nature ...</td>\n",
              "      <td>English</td>\n",
              "    </tr>\n",
              "    <tr>\n",
              "      <th>9</th>\n",
              "      <td>However, a vitalist vision of nature, closer t...</td>\n",
              "      <td>English</td>\n",
              "    </tr>\n",
              "  </tbody>\n",
              "</table>\n",
              "</div>\n",
              "    <div class=\"colab-df-buttons\">\n",
              "\n",
              "  <div class=\"colab-df-container\">\n",
              "    <button class=\"colab-df-convert\" onclick=\"convertToInteractive('df-6929969c-5dde-4b34-b588-c2bef799a22a')\"\n",
              "            title=\"Convert this dataframe to an interactive table.\"\n",
              "            style=\"display:none;\">\n",
              "\n",
              "  <svg xmlns=\"http://www.w3.org/2000/svg\" height=\"24px\" viewBox=\"0 -960 960 960\">\n",
              "    <path d=\"M120-120v-720h720v720H120Zm60-500h600v-160H180v160Zm220 220h160v-160H400v160Zm0 220h160v-160H400v160ZM180-400h160v-160H180v160Zm440 0h160v-160H620v160ZM180-180h160v-160H180v160Zm440 0h160v-160H620v160Z\"/>\n",
              "  </svg>\n",
              "    </button>\n",
              "\n",
              "  <style>\n",
              "    .colab-df-container {\n",
              "      display:flex;\n",
              "      gap: 12px;\n",
              "    }\n",
              "\n",
              "    .colab-df-convert {\n",
              "      background-color: #E8F0FE;\n",
              "      border: none;\n",
              "      border-radius: 50%;\n",
              "      cursor: pointer;\n",
              "      display: none;\n",
              "      fill: #1967D2;\n",
              "      height: 32px;\n",
              "      padding: 0 0 0 0;\n",
              "      width: 32px;\n",
              "    }\n",
              "\n",
              "    .colab-df-convert:hover {\n",
              "      background-color: #E2EBFA;\n",
              "      box-shadow: 0px 1px 2px rgba(60, 64, 67, 0.3), 0px 1px 3px 1px rgba(60, 64, 67, 0.15);\n",
              "      fill: #174EA6;\n",
              "    }\n",
              "\n",
              "    .colab-df-buttons div {\n",
              "      margin-bottom: 4px;\n",
              "    }\n",
              "\n",
              "    [theme=dark] .colab-df-convert {\n",
              "      background-color: #3B4455;\n",
              "      fill: #D2E3FC;\n",
              "    }\n",
              "\n",
              "    [theme=dark] .colab-df-convert:hover {\n",
              "      background-color: #434B5C;\n",
              "      box-shadow: 0px 1px 3px 1px rgba(0, 0, 0, 0.15);\n",
              "      filter: drop-shadow(0px 1px 2px rgba(0, 0, 0, 0.3));\n",
              "      fill: #FFFFFF;\n",
              "    }\n",
              "  </style>\n",
              "\n",
              "    <script>\n",
              "      const buttonEl =\n",
              "        document.querySelector('#df-6929969c-5dde-4b34-b588-c2bef799a22a button.colab-df-convert');\n",
              "      buttonEl.style.display =\n",
              "        google.colab.kernel.accessAllowed ? 'block' : 'none';\n",
              "\n",
              "      async function convertToInteractive(key) {\n",
              "        const element = document.querySelector('#df-6929969c-5dde-4b34-b588-c2bef799a22a');\n",
              "        const dataTable =\n",
              "          await google.colab.kernel.invokeFunction('convertToInteractive',\n",
              "                                                    [key], {});\n",
              "        if (!dataTable) return;\n",
              "\n",
              "        const docLinkHtml = 'Like what you see? Visit the ' +\n",
              "          '<a target=\"_blank\" href=https://colab.research.google.com/notebooks/data_table.ipynb>data table notebook</a>'\n",
              "          + ' to learn more about interactive tables.';\n",
              "        element.innerHTML = '';\n",
              "        dataTable['output_type'] = 'display_data';\n",
              "        await google.colab.output.renderOutput(dataTable, element);\n",
              "        const docLink = document.createElement('div');\n",
              "        docLink.innerHTML = docLinkHtml;\n",
              "        element.appendChild(docLink);\n",
              "      }\n",
              "    </script>\n",
              "  </div>\n",
              "\n",
              "\n",
              "<div id=\"df-c5852b59-cce2-48da-9ea1-c10821675a36\">\n",
              "  <button class=\"colab-df-quickchart\" onclick=\"quickchart('df-c5852b59-cce2-48da-9ea1-c10821675a36')\"\n",
              "            title=\"Suggest charts\"\n",
              "            style=\"display:none;\">\n",
              "\n",
              "<svg xmlns=\"http://www.w3.org/2000/svg\" height=\"24px\"viewBox=\"0 0 24 24\"\n",
              "     width=\"24px\">\n",
              "    <g>\n",
              "        <path d=\"M19 3H5c-1.1 0-2 .9-2 2v14c0 1.1.9 2 2 2h14c1.1 0 2-.9 2-2V5c0-1.1-.9-2-2-2zM9 17H7v-7h2v7zm4 0h-2V7h2v10zm4 0h-2v-4h2v4z\"/>\n",
              "    </g>\n",
              "</svg>\n",
              "  </button>\n",
              "\n",
              "<style>\n",
              "  .colab-df-quickchart {\n",
              "      --bg-color: #E8F0FE;\n",
              "      --fill-color: #1967D2;\n",
              "      --hover-bg-color: #E2EBFA;\n",
              "      --hover-fill-color: #174EA6;\n",
              "      --disabled-fill-color: #AAA;\n",
              "      --disabled-bg-color: #DDD;\n",
              "  }\n",
              "\n",
              "  [theme=dark] .colab-df-quickchart {\n",
              "      --bg-color: #3B4455;\n",
              "      --fill-color: #D2E3FC;\n",
              "      --hover-bg-color: #434B5C;\n",
              "      --hover-fill-color: #FFFFFF;\n",
              "      --disabled-bg-color: #3B4455;\n",
              "      --disabled-fill-color: #666;\n",
              "  }\n",
              "\n",
              "  .colab-df-quickchart {\n",
              "    background-color: var(--bg-color);\n",
              "    border: none;\n",
              "    border-radius: 50%;\n",
              "    cursor: pointer;\n",
              "    display: none;\n",
              "    fill: var(--fill-color);\n",
              "    height: 32px;\n",
              "    padding: 0;\n",
              "    width: 32px;\n",
              "  }\n",
              "\n",
              "  .colab-df-quickchart:hover {\n",
              "    background-color: var(--hover-bg-color);\n",
              "    box-shadow: 0 1px 2px rgba(60, 64, 67, 0.3), 0 1px 3px 1px rgba(60, 64, 67, 0.15);\n",
              "    fill: var(--button-hover-fill-color);\n",
              "  }\n",
              "\n",
              "  .colab-df-quickchart-complete:disabled,\n",
              "  .colab-df-quickchart-complete:disabled:hover {\n",
              "    background-color: var(--disabled-bg-color);\n",
              "    fill: var(--disabled-fill-color);\n",
              "    box-shadow: none;\n",
              "  }\n",
              "\n",
              "  .colab-df-spinner {\n",
              "    border: 2px solid var(--fill-color);\n",
              "    border-color: transparent;\n",
              "    border-bottom-color: var(--fill-color);\n",
              "    animation:\n",
              "      spin 1s steps(1) infinite;\n",
              "  }\n",
              "\n",
              "  @keyframes spin {\n",
              "    0% {\n",
              "      border-color: transparent;\n",
              "      border-bottom-color: var(--fill-color);\n",
              "      border-left-color: var(--fill-color);\n",
              "    }\n",
              "    20% {\n",
              "      border-color: transparent;\n",
              "      border-left-color: var(--fill-color);\n",
              "      border-top-color: var(--fill-color);\n",
              "    }\n",
              "    30% {\n",
              "      border-color: transparent;\n",
              "      border-left-color: var(--fill-color);\n",
              "      border-top-color: var(--fill-color);\n",
              "      border-right-color: var(--fill-color);\n",
              "    }\n",
              "    40% {\n",
              "      border-color: transparent;\n",
              "      border-right-color: var(--fill-color);\n",
              "      border-top-color: var(--fill-color);\n",
              "    }\n",
              "    60% {\n",
              "      border-color: transparent;\n",
              "      border-right-color: var(--fill-color);\n",
              "    }\n",
              "    80% {\n",
              "      border-color: transparent;\n",
              "      border-right-color: var(--fill-color);\n",
              "      border-bottom-color: var(--fill-color);\n",
              "    }\n",
              "    90% {\n",
              "      border-color: transparent;\n",
              "      border-bottom-color: var(--fill-color);\n",
              "    }\n",
              "  }\n",
              "</style>\n",
              "\n",
              "  <script>\n",
              "    async function quickchart(key) {\n",
              "      const quickchartButtonEl =\n",
              "        document.querySelector('#' + key + ' button');\n",
              "      quickchartButtonEl.disabled = true;  // To prevent multiple clicks.\n",
              "      quickchartButtonEl.classList.add('colab-df-spinner');\n",
              "      try {\n",
              "        const charts = await google.colab.kernel.invokeFunction(\n",
              "            'suggestCharts', [key], {});\n",
              "      } catch (error) {\n",
              "        console.error('Error during call to suggestCharts:', error);\n",
              "      }\n",
              "      quickchartButtonEl.classList.remove('colab-df-spinner');\n",
              "      quickchartButtonEl.classList.add('colab-df-quickchart-complete');\n",
              "    }\n",
              "    (() => {\n",
              "      let quickchartButtonEl =\n",
              "        document.querySelector('#df-c5852b59-cce2-48da-9ea1-c10821675a36 button');\n",
              "      quickchartButtonEl.style.display =\n",
              "        google.colab.kernel.accessAllowed ? 'block' : 'none';\n",
              "    })();\n",
              "  </script>\n",
              "</div>\n",
              "    </div>\n",
              "  </div>\n"
            ]
          },
          "metadata": {},
          "execution_count": 3
        }
      ]
    },
    {
      "cell_type": "markdown",
      "source": [
        "# Edit dataset\n",
        "- change dataset from 10267 text with 17 languages into 4000 text with 5 language\n",
        "- the reason for this is that i've wasted 8 hours tuning parameters and my model still wont do well so my last resort is this"
      ],
      "metadata": {
        "id": "zH3A-Y-X_--c"
      }
    },
    {
      "cell_type": "code",
      "source": [
        "target_language = ['English','German','French','Dutch','Italian']\n",
        "df = df[df['Language'].isin(target_language)]\n",
        "df.tail(10)"
      ],
      "metadata": {
        "colab": {
          "base_uri": "https://localhost:8080/",
          "height": 363
        },
        "id": "67o3JNSY2PFe",
        "outputId": "6c8f15d0-616d-417d-d75c-777805b28356"
      },
      "execution_count": 5,
      "outputs": [
        {
          "output_type": "execute_result",
          "data": {
            "text/plain": [
              "                                                   Text Language\n",
              "9958  Oh Mama, ich liebe dich so sehr und du hattest...   German\n",
              "9959  Er war gutaussehend, er hat sich überhaupt nic...   German\n",
              "9960  Ich weiß, dass es mir so leid tut, wie ich mic...   German\n",
              "9961  Oh nein, es ist in Ordnung, seit du es gesehen...   German\n",
              "9962  Was dein Fehler war, lass uns dir von diesem T...   German\n",
              "9963  narcisa änderte ihre art und weise sie kämpfte...   German\n",
              "9964  Wie' s Narzissmus jetzt erzählt Marian beiden ...   German\n",
              "9965  Hat sie, ich denke, sie würde jetzt kein Goldb...   German\n",
              "9966  Terry, du siehst tatsächlich ein bisschen wie ...   German\n",
              "9967                              Ihr zwei seid so nett   German"
            ],
            "text/html": [
              "\n",
              "  <div id=\"df-72fa24bc-4b86-4eae-9d8c-8533f59cb4c2\" class=\"colab-df-container\">\n",
              "    <div>\n",
              "<style scoped>\n",
              "    .dataframe tbody tr th:only-of-type {\n",
              "        vertical-align: middle;\n",
              "    }\n",
              "\n",
              "    .dataframe tbody tr th {\n",
              "        vertical-align: top;\n",
              "    }\n",
              "\n",
              "    .dataframe thead th {\n",
              "        text-align: right;\n",
              "    }\n",
              "</style>\n",
              "<table border=\"1\" class=\"dataframe\">\n",
              "  <thead>\n",
              "    <tr style=\"text-align: right;\">\n",
              "      <th></th>\n",
              "      <th>Text</th>\n",
              "      <th>Language</th>\n",
              "    </tr>\n",
              "  </thead>\n",
              "  <tbody>\n",
              "    <tr>\n",
              "      <th>9958</th>\n",
              "      <td>Oh Mama, ich liebe dich so sehr und du hattest...</td>\n",
              "      <td>German</td>\n",
              "    </tr>\n",
              "    <tr>\n",
              "      <th>9959</th>\n",
              "      <td>Er war gutaussehend, er hat sich überhaupt nic...</td>\n",
              "      <td>German</td>\n",
              "    </tr>\n",
              "    <tr>\n",
              "      <th>9960</th>\n",
              "      <td>Ich weiß, dass es mir so leid tut, wie ich mic...</td>\n",
              "      <td>German</td>\n",
              "    </tr>\n",
              "    <tr>\n",
              "      <th>9961</th>\n",
              "      <td>Oh nein, es ist in Ordnung, seit du es gesehen...</td>\n",
              "      <td>German</td>\n",
              "    </tr>\n",
              "    <tr>\n",
              "      <th>9962</th>\n",
              "      <td>Was dein Fehler war, lass uns dir von diesem T...</td>\n",
              "      <td>German</td>\n",
              "    </tr>\n",
              "    <tr>\n",
              "      <th>9963</th>\n",
              "      <td>narcisa änderte ihre art und weise sie kämpfte...</td>\n",
              "      <td>German</td>\n",
              "    </tr>\n",
              "    <tr>\n",
              "      <th>9964</th>\n",
              "      <td>Wie' s Narzissmus jetzt erzählt Marian beiden ...</td>\n",
              "      <td>German</td>\n",
              "    </tr>\n",
              "    <tr>\n",
              "      <th>9965</th>\n",
              "      <td>Hat sie, ich denke, sie würde jetzt kein Goldb...</td>\n",
              "      <td>German</td>\n",
              "    </tr>\n",
              "    <tr>\n",
              "      <th>9966</th>\n",
              "      <td>Terry, du siehst tatsächlich ein bisschen wie ...</td>\n",
              "      <td>German</td>\n",
              "    </tr>\n",
              "    <tr>\n",
              "      <th>9967</th>\n",
              "      <td>Ihr zwei seid so nett</td>\n",
              "      <td>German</td>\n",
              "    </tr>\n",
              "  </tbody>\n",
              "</table>\n",
              "</div>\n",
              "    <div class=\"colab-df-buttons\">\n",
              "\n",
              "  <div class=\"colab-df-container\">\n",
              "    <button class=\"colab-df-convert\" onclick=\"convertToInteractive('df-72fa24bc-4b86-4eae-9d8c-8533f59cb4c2')\"\n",
              "            title=\"Convert this dataframe to an interactive table.\"\n",
              "            style=\"display:none;\">\n",
              "\n",
              "  <svg xmlns=\"http://www.w3.org/2000/svg\" height=\"24px\" viewBox=\"0 -960 960 960\">\n",
              "    <path d=\"M120-120v-720h720v720H120Zm60-500h600v-160H180v160Zm220 220h160v-160H400v160Zm0 220h160v-160H400v160ZM180-400h160v-160H180v160Zm440 0h160v-160H620v160ZM180-180h160v-160H180v160Zm440 0h160v-160H620v160Z\"/>\n",
              "  </svg>\n",
              "    </button>\n",
              "\n",
              "  <style>\n",
              "    .colab-df-container {\n",
              "      display:flex;\n",
              "      gap: 12px;\n",
              "    }\n",
              "\n",
              "    .colab-df-convert {\n",
              "      background-color: #E8F0FE;\n",
              "      border: none;\n",
              "      border-radius: 50%;\n",
              "      cursor: pointer;\n",
              "      display: none;\n",
              "      fill: #1967D2;\n",
              "      height: 32px;\n",
              "      padding: 0 0 0 0;\n",
              "      width: 32px;\n",
              "    }\n",
              "\n",
              "    .colab-df-convert:hover {\n",
              "      background-color: #E2EBFA;\n",
              "      box-shadow: 0px 1px 2px rgba(60, 64, 67, 0.3), 0px 1px 3px 1px rgba(60, 64, 67, 0.15);\n",
              "      fill: #174EA6;\n",
              "    }\n",
              "\n",
              "    .colab-df-buttons div {\n",
              "      margin-bottom: 4px;\n",
              "    }\n",
              "\n",
              "    [theme=dark] .colab-df-convert {\n",
              "      background-color: #3B4455;\n",
              "      fill: #D2E3FC;\n",
              "    }\n",
              "\n",
              "    [theme=dark] .colab-df-convert:hover {\n",
              "      background-color: #434B5C;\n",
              "      box-shadow: 0px 1px 3px 1px rgba(0, 0, 0, 0.15);\n",
              "      filter: drop-shadow(0px 1px 2px rgba(0, 0, 0, 0.3));\n",
              "      fill: #FFFFFF;\n",
              "    }\n",
              "  </style>\n",
              "\n",
              "    <script>\n",
              "      const buttonEl =\n",
              "        document.querySelector('#df-72fa24bc-4b86-4eae-9d8c-8533f59cb4c2 button.colab-df-convert');\n",
              "      buttonEl.style.display =\n",
              "        google.colab.kernel.accessAllowed ? 'block' : 'none';\n",
              "\n",
              "      async function convertToInteractive(key) {\n",
              "        const element = document.querySelector('#df-72fa24bc-4b86-4eae-9d8c-8533f59cb4c2');\n",
              "        const dataTable =\n",
              "          await google.colab.kernel.invokeFunction('convertToInteractive',\n",
              "                                                    [key], {});\n",
              "        if (!dataTable) return;\n",
              "\n",
              "        const docLinkHtml = 'Like what you see? Visit the ' +\n",
              "          '<a target=\"_blank\" href=https://colab.research.google.com/notebooks/data_table.ipynb>data table notebook</a>'\n",
              "          + ' to learn more about interactive tables.';\n",
              "        element.innerHTML = '';\n",
              "        dataTable['output_type'] = 'display_data';\n",
              "        await google.colab.output.renderOutput(dataTable, element);\n",
              "        const docLink = document.createElement('div');\n",
              "        docLink.innerHTML = docLinkHtml;\n",
              "        element.appendChild(docLink);\n",
              "      }\n",
              "    </script>\n",
              "  </div>\n",
              "\n",
              "\n",
              "<div id=\"df-49102780-edc3-4ed2-985f-62f8209fc6c6\">\n",
              "  <button class=\"colab-df-quickchart\" onclick=\"quickchart('df-49102780-edc3-4ed2-985f-62f8209fc6c6')\"\n",
              "            title=\"Suggest charts\"\n",
              "            style=\"display:none;\">\n",
              "\n",
              "<svg xmlns=\"http://www.w3.org/2000/svg\" height=\"24px\"viewBox=\"0 0 24 24\"\n",
              "     width=\"24px\">\n",
              "    <g>\n",
              "        <path d=\"M19 3H5c-1.1 0-2 .9-2 2v14c0 1.1.9 2 2 2h14c1.1 0 2-.9 2-2V5c0-1.1-.9-2-2-2zM9 17H7v-7h2v7zm4 0h-2V7h2v10zm4 0h-2v-4h2v4z\"/>\n",
              "    </g>\n",
              "</svg>\n",
              "  </button>\n",
              "\n",
              "<style>\n",
              "  .colab-df-quickchart {\n",
              "      --bg-color: #E8F0FE;\n",
              "      --fill-color: #1967D2;\n",
              "      --hover-bg-color: #E2EBFA;\n",
              "      --hover-fill-color: #174EA6;\n",
              "      --disabled-fill-color: #AAA;\n",
              "      --disabled-bg-color: #DDD;\n",
              "  }\n",
              "\n",
              "  [theme=dark] .colab-df-quickchart {\n",
              "      --bg-color: #3B4455;\n",
              "      --fill-color: #D2E3FC;\n",
              "      --hover-bg-color: #434B5C;\n",
              "      --hover-fill-color: #FFFFFF;\n",
              "      --disabled-bg-color: #3B4455;\n",
              "      --disabled-fill-color: #666;\n",
              "  }\n",
              "\n",
              "  .colab-df-quickchart {\n",
              "    background-color: var(--bg-color);\n",
              "    border: none;\n",
              "    border-radius: 50%;\n",
              "    cursor: pointer;\n",
              "    display: none;\n",
              "    fill: var(--fill-color);\n",
              "    height: 32px;\n",
              "    padding: 0;\n",
              "    width: 32px;\n",
              "  }\n",
              "\n",
              "  .colab-df-quickchart:hover {\n",
              "    background-color: var(--hover-bg-color);\n",
              "    box-shadow: 0 1px 2px rgba(60, 64, 67, 0.3), 0 1px 3px 1px rgba(60, 64, 67, 0.15);\n",
              "    fill: var(--button-hover-fill-color);\n",
              "  }\n",
              "\n",
              "  .colab-df-quickchart-complete:disabled,\n",
              "  .colab-df-quickchart-complete:disabled:hover {\n",
              "    background-color: var(--disabled-bg-color);\n",
              "    fill: var(--disabled-fill-color);\n",
              "    box-shadow: none;\n",
              "  }\n",
              "\n",
              "  .colab-df-spinner {\n",
              "    border: 2px solid var(--fill-color);\n",
              "    border-color: transparent;\n",
              "    border-bottom-color: var(--fill-color);\n",
              "    animation:\n",
              "      spin 1s steps(1) infinite;\n",
              "  }\n",
              "\n",
              "  @keyframes spin {\n",
              "    0% {\n",
              "      border-color: transparent;\n",
              "      border-bottom-color: var(--fill-color);\n",
              "      border-left-color: var(--fill-color);\n",
              "    }\n",
              "    20% {\n",
              "      border-color: transparent;\n",
              "      border-left-color: var(--fill-color);\n",
              "      border-top-color: var(--fill-color);\n",
              "    }\n",
              "    30% {\n",
              "      border-color: transparent;\n",
              "      border-left-color: var(--fill-color);\n",
              "      border-top-color: var(--fill-color);\n",
              "      border-right-color: var(--fill-color);\n",
              "    }\n",
              "    40% {\n",
              "      border-color: transparent;\n",
              "      border-right-color: var(--fill-color);\n",
              "      border-top-color: var(--fill-color);\n",
              "    }\n",
              "    60% {\n",
              "      border-color: transparent;\n",
              "      border-right-color: var(--fill-color);\n",
              "    }\n",
              "    80% {\n",
              "      border-color: transparent;\n",
              "      border-right-color: var(--fill-color);\n",
              "      border-bottom-color: var(--fill-color);\n",
              "    }\n",
              "    90% {\n",
              "      border-color: transparent;\n",
              "      border-bottom-color: var(--fill-color);\n",
              "    }\n",
              "  }\n",
              "</style>\n",
              "\n",
              "  <script>\n",
              "    async function quickchart(key) {\n",
              "      const quickchartButtonEl =\n",
              "        document.querySelector('#' + key + ' button');\n",
              "      quickchartButtonEl.disabled = true;  // To prevent multiple clicks.\n",
              "      quickchartButtonEl.classList.add('colab-df-spinner');\n",
              "      try {\n",
              "        const charts = await google.colab.kernel.invokeFunction(\n",
              "            'suggestCharts', [key], {});\n",
              "      } catch (error) {\n",
              "        console.error('Error during call to suggestCharts:', error);\n",
              "      }\n",
              "      quickchartButtonEl.classList.remove('colab-df-spinner');\n",
              "      quickchartButtonEl.classList.add('colab-df-quickchart-complete');\n",
              "    }\n",
              "    (() => {\n",
              "      let quickchartButtonEl =\n",
              "        document.querySelector('#df-49102780-edc3-4ed2-985f-62f8209fc6c6 button');\n",
              "      quickchartButtonEl.style.display =\n",
              "        google.colab.kernel.accessAllowed ? 'block' : 'none';\n",
              "    })();\n",
              "  </script>\n",
              "</div>\n",
              "    </div>\n",
              "  </div>\n"
            ]
          },
          "metadata": {},
          "execution_count": 5
        }
      ]
    },
    {
      "cell_type": "code",
      "source": [
        "jumlah = len(df['Text'])\n",
        "print(f'Samples: {jumlah}')"
      ],
      "metadata": {
        "colab": {
          "base_uri": "https://localhost:8080/"
        },
        "id": "78N4nu1i3HK3",
        "outputId": "5e40b092-5762-4963-cac1-d8d5d098bf02"
      },
      "execution_count": 6,
      "outputs": [
        {
          "output_type": "stream",
          "name": "stdout",
          "text": [
            "Samples: 4113\n"
          ]
        }
      ]
    },
    {
      "cell_type": "code",
      "source": [
        "jumlah_class = df['Language'].nunique()\n",
        "print(f'jumlah class yang unik: {jumlah_class}')\n",
        "\n",
        "distribusi_class = df['Language'].value_counts()\n",
        "print(f'Distribusi kelas: \\n{distribusi_class}')"
      ],
      "metadata": {
        "colab": {
          "base_uri": "https://localhost:8080/"
        },
        "id": "7sFQHsaY3lxu",
        "outputId": "d0787682-f801-407f-b8c2-9d1cfeff32d8"
      },
      "execution_count": 7,
      "outputs": [
        {
          "output_type": "stream",
          "name": "stdout",
          "text": [
            "jumlah class yang unik: 5\n",
            "Distribusi kelas: \n",
            "English    1385\n",
            "French     1014\n",
            "Italian     698\n",
            "Dutch       546\n",
            "German      470\n",
            "Name: Language, dtype: int64\n"
          ]
        }
      ]
    },
    {
      "cell_type": "markdown",
      "source": [
        "# Data cleaning\n"
      ],
      "metadata": {
        "id": "OvwBMtcBDYG4"
      }
    },
    {
      "cell_type": "code",
      "source": [
        "df.drop_duplicates(subset=[\"Text\"], inplace=True)\n",
        "\n",
        "# tokenize words\n",
        "df['Text'] = df['Text'].apply(word_tokenize)\n",
        "\n",
        "# remove punctuation\n",
        "df['Text'] = df['Text'].apply(lambda text: ' '.join([word for word in text if word.isalpha()]))\n",
        "\n",
        "# tokenize words\n",
        "df['Text'] = df['Text'].apply(word_tokenize)\n",
        "\n",
        "print(df['Text'])"
      ],
      "metadata": {
        "colab": {
          "base_uri": "https://localhost:8080/"
        },
        "id": "zXHTelBjmX8X",
        "outputId": "c430c5f2-b61f-4794-82d2-89e0567ddfe2"
      },
      "execution_count": 8,
      "outputs": [
        {
          "output_type": "stream",
          "name": "stdout",
          "text": [
            "0       [Nature, in, the, broadest, sense, is, the, na...\n",
            "1       [Nature, can, refer, to, the, phenomena, of, t...\n",
            "2       [The, study, of, nature, is, a, large, if, not...\n",
            "3       [Although, humans, are, part, of, nature, huma...\n",
            "4       [The, word, nature, is, borrowed, from, the, O...\n",
            "                              ...                        \n",
            "9963    [narcisa, änderte, ihre, art, und, weise, sie,...\n",
            "9964    [Wie, s, Narzissmus, jetzt, erzählt, Marian, b...\n",
            "9965    [Hat, sie, ich, denke, sie, würde, jetzt, kein...\n",
            "9966    [Terry, du, siehst, tatsächlich, ein, bisschen...\n",
            "9967                          [Ihr, zwei, seid, so, nett]\n",
            "Name: Text, Length: 4088, dtype: object\n"
          ]
        }
      ]
    },
    {
      "cell_type": "markdown",
      "source": [
        "# One Hot Encoding"
      ],
      "metadata": {
        "id": "8BtHDhX5sVgz"
      }
    },
    {
      "cell_type": "code",
      "source": [
        "bahasa = pd.get_dummies(df['Language'])\n",
        "df_baru = pd.concat([df, bahasa], axis=1)\n",
        "df_baru = df_baru.drop(columns=['Language'])\n",
        "print(df_baru)"
      ],
      "metadata": {
        "colab": {
          "base_uri": "https://localhost:8080/"
        },
        "id": "c-9dCUudsZ-k",
        "outputId": "e050e5f5-3371-440d-f741-8e2be29fb7df"
      },
      "execution_count": 9,
      "outputs": [
        {
          "output_type": "stream",
          "name": "stdout",
          "text": [
            "                                                   Text  Dutch  English  \\\n",
            "0     [Nature, in, the, broadest, sense, is, the, na...      0        1   \n",
            "1     [Nature, can, refer, to, the, phenomena, of, t...      0        1   \n",
            "2     [The, study, of, nature, is, a, large, if, not...      0        1   \n",
            "3     [Although, humans, are, part, of, nature, huma...      0        1   \n",
            "4     [The, word, nature, is, borrowed, from, the, O...      0        1   \n",
            "...                                                 ...    ...      ...   \n",
            "9963  [narcisa, änderte, ihre, art, und, weise, sie,...      0        0   \n",
            "9964  [Wie, s, Narzissmus, jetzt, erzählt, Marian, b...      0        0   \n",
            "9965  [Hat, sie, ich, denke, sie, würde, jetzt, kein...      0        0   \n",
            "9966  [Terry, du, siehst, tatsächlich, ein, bisschen...      0        0   \n",
            "9967                        [Ihr, zwei, seid, so, nett]      0        0   \n",
            "\n",
            "      French  German  Italian  \n",
            "0          0       0        0  \n",
            "1          0       0        0  \n",
            "2          0       0        0  \n",
            "3          0       0        0  \n",
            "4          0       0        0  \n",
            "...      ...     ...      ...  \n",
            "9963       0       1        0  \n",
            "9964       0       1        0  \n",
            "9965       0       1        0  \n",
            "9966       0       1        0  \n",
            "9967       0       1        0  \n",
            "\n",
            "[4088 rows x 6 columns]\n"
          ]
        }
      ]
    },
    {
      "cell_type": "markdown",
      "source": [
        "# Split dataset\n",
        "in this dataset there is a column named text and 5 other columns with language names"
      ],
      "metadata": {
        "id": "65l8FrmscdDI"
      }
    },
    {
      "cell_type": "code",
      "source": [
        "kalimat = df_baru['Text'].values\n",
        "label = df_baru[['English','German','French','Dutch','Italian']].values"
      ],
      "metadata": {
        "id": "XHBivQQScfya"
      },
      "execution_count": 10,
      "outputs": []
    },
    {
      "cell_type": "markdown",
      "source": [
        "# Split data into train and test\n",
        "\n",
        "- random_state is used so that you will get the same result as i do"
      ],
      "metadata": {
        "id": "SrTfjzdnchdB"
      }
    },
    {
      "cell_type": "code",
      "source": [
        "kalimat_latih, kalimat_test, label_latih, label_test = train_test_split(kalimat, label, test_size=0.2, random_state=42)"
      ],
      "metadata": {
        "id": "SRIJG_t9eMWz"
      },
      "execution_count": 11,
      "outputs": []
    },
    {
      "cell_type": "markdown",
      "source": [
        "# Tokenization"
      ],
      "metadata": {
        "id": "swok_lwMpK03"
      }
    },
    {
      "cell_type": "code",
      "source": [
        "vocab_size = 14000\n",
        "tokenizer = Tokenizer(num_words=vocab_size, oov_token='x')\n",
        "tokenizer.fit_on_texts(kalimat_latih)\n",
        "\n",
        "sekuens_latih = tokenizer.texts_to_sequences(kalimat_latih)\n",
        "sekuens_test = tokenizer.texts_to_sequences(kalimat_test)\n",
        "\n",
        "padded_latih = pad_sequences(sekuens_latih, maxlen=20, padding='post')\n",
        "padded_test = pad_sequences(sekuens_test, maxlen=20, padding='post')\n",
        "\n",
        "print(f\"Kalimat latih: {kalimat_latih[0]} \\n\")\n",
        "print(f\"Sekuens latih: {sekuens_latih[0]} \\n\")\n",
        "print(f\"Padded latih: {padded_latih[0]} \\n\")"
      ],
      "metadata": {
        "colab": {
          "base_uri": "https://localhost:8080/"
        },
        "id": "ZsdktqMGqKYs",
        "outputId": "80ad98ee-15d6-4813-809c-d8a0ac4df720"
      },
      "execution_count": 12,
      "outputs": [
        {
          "output_type": "stream",
          "name": "stdout",
          "text": [
            "Kalimat latih: ['Je', 'suis', 'submergé', 'le', 'mot', 'intelligent', 'numéro', 'deux', 'est', 'maintenant', 'je', 'suis', 'sûr', 'que', 'vous', 'entendu', 'ce', 'mot', 'avant', 'signifie', 'une', 'situation', 'impossible', 'dans', 'laquelle', 'vous', 'ne', 'pouvez', 'pas', 'faire', 'une', 'chose', 'à', 'moins', 'fait', 'et', 'vous', 'ne', 'pouvez', 'pas', 'faire', 'parce', 'que', 'vous', 'pas', 'fait', 'la', 'première'] \n",
            "\n",
            "Sekuens latih: [17, 242, 1127, 11, 156, 873, 700, 350, 34, 564, 17, 242, 995, 26, 30, 2576, 72, 156, 874, 249, 37, 351, 3562, 36, 1327, 30, 74, 168, 55, 297, 37, 283, 18, 1328, 159, 14, 30, 74, 168, 55, 297, 643, 26, 30, 55, 159, 7, 2577] \n",
            "\n",
            "Padded latih: [  55  297   37  283   18 1328  159   14   30   74  168   55  297  643\n",
            "   26   30   55  159    7 2577] \n",
            "\n"
          ]
        }
      ]
    },
    {
      "cell_type": "markdown",
      "source": [
        "# Callback function"
      ],
      "metadata": {
        "id": "8miBjiVQdz8y"
      }
    },
    {
      "cell_type": "code",
      "source": [
        "class SantaiDuluGakSih(tf.keras.callbacks.Callback):\n",
        "  def __init__(self, sabar_acc=10, sabar_loss=10):\n",
        "    super(SantaiDuluGakSih, self).__init__()\n",
        "    self.sabar_acc = sabar_acc\n",
        "    self.sabar_loss = sabar_loss\n",
        "    self.limit_acc = sabar_acc\n",
        "    self.limit_loss = sabar_loss\n",
        "\n",
        "  def on_epoch_end(self, epoch, logs={}):\n",
        "    if logs.get('accuracy')>0.9 and logs.get('val_accuracy')>0.9:\n",
        "      self.sabar_acc -= 1\n",
        "    else:\n",
        "      self.sabar_acc += 1\n",
        "\n",
        "    if logs.get('loss')>0.75 or logs.get('val_loss')>0.75:\n",
        "      self.sabar_loss -= 1\n",
        "    else:\n",
        "      self.sabar_loss += 1\n",
        "\n",
        "    if self.sabar_acc == 0:\n",
        "      print(f\"The model accuracy has been above 90% for {self.limit_acc} epochs, Stopping training immediatly!!!\")\n",
        "      self.model.stop_training = True\n",
        "    elif self.sabar_loss == 0:\n",
        "      print(f\"The model loss has been above 75% for {self.limit_loss} epochs, Stopping training immediatly!!!\")\n",
        "      self.model.stop_training = True"
      ],
      "metadata": {
        "id": "OyYt8EiDdzLU"
      },
      "execution_count": null,
      "outputs": []
    },
    {
      "cell_type": "markdown",
      "source": [
        "# Model creation"
      ],
      "metadata": {
        "id": "Sg18ShqdU1sq"
      }
    },
    {
      "cell_type": "code",
      "source": [
        "model = tf.keras.models.Sequential([\n",
        "    tf.keras.layers.Embedding(input_dim=vocab_size, output_dim=16, input_length=20),\n",
        "    tf.keras.layers.LSTM(64),\n",
        "    tf.keras.layers.Dense(64, activation=\"relu\", kernel_regularizer=l2(0.01)),\n",
        "    tf.keras.layers.Dense(32, activation=\"relu\"),\n",
        "    tf.keras.layers.Dropout(0.5),\n",
        "    tf.keras.layers.Dense(5, activation=\"softmax\")\n",
        "])\n",
        "model.summary()"
      ],
      "metadata": {
        "id": "bNgfkJ_1U4n5",
        "colab": {
          "base_uri": "https://localhost:8080/"
        },
        "outputId": "beb0ecf6-9c6d-4602-ea6a-0adcd007324e"
      },
      "execution_count": null,
      "outputs": [
        {
          "output_type": "stream",
          "name": "stdout",
          "text": [
            "Model: \"sequential_21\"\n",
            "_________________________________________________________________\n",
            " Layer (type)                Output Shape              Param #   \n",
            "=================================================================\n",
            " embedding_21 (Embedding)    (None, 20, 16)            224000    \n",
            "                                                                 \n",
            " lstm_21 (LSTM)              (None, 64)                20736     \n",
            "                                                                 \n",
            " dense_71 (Dense)            (None, 64)                4160      \n",
            "                                                                 \n",
            " dense_72 (Dense)            (None, 32)                2080      \n",
            "                                                                 \n",
            " dropout_21 (Dropout)        (None, 32)                0         \n",
            "                                                                 \n",
            " dense_73 (Dense)            (None, 5)                 165       \n",
            "                                                                 \n",
            "=================================================================\n",
            "Total params: 251141 (981.02 KB)\n",
            "Trainable params: 251141 (981.02 KB)\n",
            "Non-trainable params: 0 (0.00 Byte)\n",
            "_________________________________________________________________\n"
          ]
        }
      ]
    },
    {
      "cell_type": "code",
      "source": [
        "model.compile(\n",
        "    optimizer=tf.keras.optimizers.Adam(learning_rate=0.001),\n",
        "    loss='categorical_crossentropy',\n",
        "    metrics=['accuracy']\n",
        ")"
      ],
      "metadata": {
        "id": "x8WxqjMNY7Kv"
      },
      "execution_count": null,
      "outputs": []
    },
    {
      "cell_type": "code",
      "source": [
        "stop_early = SantaiDuluGakSih(sabar_acc=1, sabar_loss=10)\n",
        "modelku = model.fit(\n",
        "    padded_latih,\n",
        "    label_latih,\n",
        "    epochs=20,\n",
        "    batch_size=32,\n",
        "    validation_data=(padded_test, label_test),\n",
        "    callbacks=[stop_early],\n",
        "    verbose=2\n",
        ")"
      ],
      "metadata": {
        "colab": {
          "base_uri": "https://localhost:8080/"
        },
        "id": "1Nzk_LLQZ_Xu",
        "outputId": "370f1aaa-3e86-488e-cd36-c921a95e150c"
      },
      "execution_count": null,
      "outputs": [
        {
          "output_type": "stream",
          "name": "stdout",
          "text": [
            "Epoch 1/20\n",
            "103/103 - 7s - loss: 1.7425 - accuracy: 0.3502 - val_loss: 1.0060 - val_accuracy: 0.6736 - 7s/epoch - 64ms/step\n",
            "Epoch 2/20\n",
            "103/103 - 2s - loss: 0.8448 - accuracy: 0.6878 - val_loss: 0.4558 - val_accuracy: 0.8509 - 2s/epoch - 20ms/step\n",
            "Epoch 3/20\n",
            "103/103 - 2s - loss: 0.4471 - accuracy: 0.8440 - val_loss: 0.2710 - val_accuracy: 0.9401 - 2s/epoch - 20ms/step\n",
            "Epoch 4/20\n",
            "103/103 - 2s - loss: 0.2507 - accuracy: 0.9428 - val_loss: 0.2332 - val_accuracy: 0.9450 - 2s/epoch - 19ms/step\n",
            "Epoch 5/20\n",
            "103/103 - 2s - loss: 0.1756 - accuracy: 0.9648 - val_loss: 0.1906 - val_accuracy: 0.9535 - 2s/epoch - 20ms/step\n",
            "Epoch 6/20\n",
            "103/103 - 3s - loss: 0.1364 - accuracy: 0.9728 - val_loss: 0.1917 - val_accuracy: 0.9597 - 3s/epoch - 30ms/step\n",
            "Epoch 7/20\n",
            "The model accuracy has been above 90% for 1 epochs, Stopping training immediatly!!!\n",
            "103/103 - 3s - loss: 0.1120 - accuracy: 0.9786 - val_loss: 0.1323 - val_accuracy: 0.9780 - 3s/epoch - 32ms/step\n"
          ]
        }
      ]
    },
    {
      "cell_type": "markdown",
      "source": [
        "# Prediction\n",
        "\n",
        "### for debugging purposes\n",
        "\n",
        "\n",
        "```\n",
        "#english\n",
        "\"i am not in danger skyler i am the danger, a guy open his door and get shot, you think that of me? no i am the one who knocks\"\n",
        "#italian\n",
        "\"non sono in pericolo Skyler, sono il pericolo, un ragazzo apre la porta e viene colpito, pensi questo di me? no, sono io quello che bussa\"\n",
        "#dutch\n",
        "\"ik ben niet in gevaar Skyler ik ben het gevaar, een man doet zijn deur open en wordt neergeschoten, denk je dat van mij? Nee, ik ben degene die klopt\"\n",
        "#german\n",
        "\"Ich bin nicht in Gefahr, Skyler, ich bin die Gefahr, ein Typ öffnet seine Tür und wird erschossen, denkst du das von mir? Nein, ich bin derjenige, der klopft\"\n",
        "#france\n",
        "\"je ne suis pas en danger Skyler je suis le danger, un mec ouvre sa porte et se fait tirer dessus, tu penses ça de moi ? non, c'est moi qui frappe\"\n",
        "\n",
        "print(input_text)\n",
        "print(sekuens_input, \"\\n\")\n",
        "print(padded_input, \"\\n\")\n",
        "print(len(prediksi), index_prediksi, len(label_prediksi))\n",
        "```\n",
        "\n"
      ],
      "metadata": {
        "id": "iYx61cBUxtfj"
      }
    },
    {
      "cell_type": "code",
      "source": [
        "input_text = input(\"Input your text here: \")\n",
        "\n",
        "sekuens_input = tokenizer.texts_to_sequences([input_text])\n",
        "padded_input = pad_sequences(sekuens_input, maxlen=20, padding='post')\n",
        "\n",
        "import numpy as np\n",
        "prediksi = model.predict(padded_input)\n",
        "index_prediksi = np.argmax(prediksi)\n",
        "label_prediksi = ['English','German','French','Dutch','Italian']\n",
        "\n",
        "hasil_prediksi = label_prediksi[index_prediksi]\n",
        "\n",
        "print(f\"The language of this text is {hasil_prediksi}\")"
      ],
      "metadata": {
        "colab": {
          "base_uri": "https://localhost:8080/"
        },
        "id": "f8MwndFUxw4d",
        "outputId": "de88b4c5-0c05-44ab-b871-dd9709d42c05"
      },
      "execution_count": null,
      "outputs": [
        {
          "output_type": "stream",
          "name": "stdout",
          "text": [
            "Input your text here: Ich bin nicht in Gefahr, Skyler, ich bin die Gefahr, ein Typ öffnet seine Tür und wird erschossen, denkst du das von mir? Nein, ich bin derjenige, der klopft\n",
            "1/1 [==============================] - 1s 516ms/step\n",
            "The language of this text is German\n"
          ]
        }
      ]
    },
    {
      "cell_type": "markdown",
      "source": [
        "# Plot accuracy & loss"
      ],
      "metadata": {
        "id": "5NC5Oggf9epK"
      }
    },
    {
      "cell_type": "code",
      "source": [
        "# plot loss\n",
        "plt.plot(modelku.history['loss'])\n",
        "plt.plot(modelku.history['val_loss'])\n",
        "plt.title('Model loss')\n",
        "plt.ylabel('Loss')\n",
        "plt.xlabel('Epoch')\n",
        "plt.legend(['Train', 'Validation'], loc='upper right')\n",
        "plt.show()\n",
        "\n",
        "# plot acc\n",
        "plt.plot(modelku.history['accuracy'])\n",
        "plt.plot(modelku.history['val_accuracy'])\n",
        "plt.title('Model accuracy')\n",
        "plt.ylabel('Accuracy')\n",
        "plt.xlabel('Epoch')\n",
        "plt.legend(['Train', 'Validation'], loc='lower right')\n",
        "plt.show()"
      ],
      "metadata": {
        "colab": {
          "base_uri": "https://localhost:8080/",
          "height": 927
        },
        "id": "tT_L46Iu9hGN",
        "outputId": "8b0c9cbb-f325-4d90-8572-882d83d7a208"
      },
      "execution_count": null,
      "outputs": [
        {
          "output_type": "display_data",
          "data": {
            "text/plain": [
              "<Figure size 640x480 with 1 Axes>"
            ],
            "image/png": "[encoded data removed]"
          },
          "metadata": {}
        },
        {
          "output_type": "display_data",
          "data": {
            "text/plain": [
              "<Figure size 640x480 with 1 Axes>"
            ],
            "image/png": "[encoded data removed]"
          },
          "metadata": {}
        }
      ]
    }
  ]
}